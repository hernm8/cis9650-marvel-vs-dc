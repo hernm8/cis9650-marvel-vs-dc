{
 "cells": [
  {
   "cell_type": "code",
   "execution_count": null,
   "id": "0821803e-1667-4b31-b554-65ab04e7f15c",
   "metadata": {},
   "outputs": [],
   "source": [
    "import pandas as pd\n",
    "import json \n",
    "import requests\n",
    "import statistics\n",
    "import matplotlib.pyplot as plt\n",
    "import seaborn as sns"
   ]
  },
  {
   "cell_type": "code",
   "execution_count": null,
   "id": "838a5ce8-3fa5-4797-aa1a-94a7bd4b1611",
   "metadata": {},
   "outputs": [],
   "source": [
    "df = pd.read_csv('movies_full_list.csv')"
   ]
  },
  {
   "cell_type": "code",
   "execution_count": null,
   "id": "55c7f665-07e6-4dff-ae3d-0e4759a75729",
   "metadata": {},
   "outputs": [],
   "source": [
    "df"
   ]
  },
  {
   "cell_type": "code",
   "execution_count": null,
   "id": "83504881-606d-41c3-b337-bd6936e4453b",
   "metadata": {},
   "outputs": [],
   "source": [
    "# 2. Basic brand summaries\n",
    "avg = df.groupby(\"Franchise\")[\"Rotten Tomatoes\"].mean()\n",
    "total = df.groupby(\"Franchise\")[\"Rotten Tomatoes\"].sum()\n",
    "count = df[\"Franchise\"].value_counts()\n",
    "\n",
    "print(\"\\n=== Number of Movies per Franchise ===\")\n",
    "print(count)\n",
    "\n",
    "print(\"=== Average Rotten Tomatoes Rating by Franchise ===\")\n",
    "print(avg.apply(lambda x: f\"{x:,.0f}%\"))\n",
    "\n",
    "\n",
    "# 3. Top & Bottom 3 for each brand\n",
    "top3_dc = df[df[\"Franchise\"] == \"DC\"].sort_values(\"Rotten Tomatoes\", ascending=False).head(3)\n",
    "bottom3_dc = df[df[\"Franchise\"] == \"DC\"].sort_values(\"Rotten Tomatoes\", ascending=True).head(3)\n",
    "top3_marvel = df[df[\"Franchise\"] == \"Marvel\"].sort_values(\"Rotten Tomatoes\", ascending=False).head(3)\n",
    "bottom3_marvel = df[df[\"Franchise\"] == \"Marvel\"].sort_values(\"Rotten Tomatoes\", ascending=True).head(3)\n",
    "\n",
    "print(\"\\n=== Top 3 DC Movies ===\")\n",
    "print(top3_dc[[\"Title\", \"Year\", \"Rotten Tomatoes\"]])\n",
    "\n",
    "print(\"\\n=== Bottom 3 DC Movies ===\")\n",
    "print(bottom3_dc[[\"Title\", \"Year\", \"Rotten Tomatoes\"]])\n",
    "\n",
    "print(\"\\n=== Top 3 Marvel Movies ===\")\n",
    "print(top3_marvel[[\"Title\", \"Year\", \"Rotten Tomatoes\"]])\n",
    "\n",
    "print(\"\\n=== Bottom 3 Marvel Movies ===\")\n",
    "print(bottom3_marvel[[\"Title\", \"Year\", \"Rotten Tomatoes\"]])"
   ]
  },
  {
   "cell_type": "code",
   "execution_count": null,
   "id": "7ca5a59f-1f97-4609-b82a-b7ecb09a6958",
   "metadata": {},
   "outputs": [],
   "source": [
    "pd.set_option('display.float_format', '{:.2f}'.format)\n",
    "df.describe().T"
   ]
  },
  {
   "cell_type": "code",
   "execution_count": null,
   "id": "336d4ab5-3adc-48c3-bacd-5eb92ae94ef4",
   "metadata": {},
   "outputs": [],
   "source": [
    "dfc = pd.DataFrame(df)\n",
    "correlation = df['Rotten Tomatoes'].corr(df['Box Office'])\n",
    "print(\"Correlation:\", correlation) ## moderate relationship between rotten tomatoes score and box office earnings for all Movies\n",
    "\n",
    "## No relationship: |r| < 0.25\n",
    "\n",
    "## Weak relationship: 0.25 ≤ |r| < 0.5\n",
    "\n",
    "## Moderate relationship: 0.5 ≤ |r| < 0.75\n",
    "\n",
    "## Strong relationship: |r| ≥ 0.75."
   ]
  },
  {
   "cell_type": "code",
   "execution_count": null,
   "id": "36f193e9-f637-4348-b116-1c8d915e2f63",
   "metadata": {},
   "outputs": [],
   "source": [
    "marvel_df = df[df[\"Franchise\"] == \"Marvel\"]\n",
    "\n",
    "dc_df = df[df[\"Franchise\"] == \"DC\"]\n",
    "\n",
    "marvel_corr = marvel_df[\"Rotten Tomatoes\"].corr(marvel_df[\"Box Office\"])\n",
    "print(\"Marvel correlation:\", marvel_corr)\n",
    "\n",
    "## moderate relationship between rotten tomatoes score and box office earnings for marvel Movies\n",
    "\n",
    "dc_corr = dc_df[\"Rotten Tomatoes\"].corr(dc_df[\"Box Office\"])\n",
    "print(\"DC correlation:\", dc_corr)\n",
    "\n",
    "## moderate relationship between rotten tomatoes score and box office earnings for dc Movies"
   ]
  },
  {
   "cell_type": "code",
   "execution_count": null,
   "id": "c3ec0d83-7488-4632-b0b7-c3bc15ab28c8",
   "metadata": {},
   "outputs": [],
   "source": [
    "means = {\n",
    "    'marvel_movies': marvel_df['Rotten Tomatoes'].mean(),\n",
    "    'dc_movies': dc_df['Rotten Tomatoes'].mean(),\n",
    "    'all_movies': dfc['Rotten Tomatoes'].mean()\n",
    "}\n",
    "\n",
    "mean_df = pd.DataFrame(list(means.items()), columns=['Dataset', 'Mean'])\n",
    "\n",
    "plt.bar(mean_df['Dataset'], mean_df['Mean'], color='blue')\n",
    "plt.title('Average Rotten Tomatoes Score Comparison')\n",
    "plt.ylabel('Rotten Tomatoes Rating')\n",
    "plt.xlabel('Franchises')\n",
    "plt.ylim(0, 75)\n",
    "plt.grid(axis='y', linestyle='--', alpha=0.7)\n",
    "plt.show()"
   ]
  },
  {
   "cell_type": "code",
   "execution_count": null,
   "id": "32c9c204-da75-4c7f-8f29-0e4a47a2b149",
   "metadata": {},
   "outputs": [],
   "source": [
    "marvel_df.plot.scatter(x= 'Box Office', y ='Rotten Tomatoes', color='red', marker='o')\n",
    "plt.xlabel('Marvel Box Office Earnings in Millions')\n",
    "plt.ylabel('Rotten Tomatoes Rating out of 100')\n",
    "plt.title('Rotten Tomatoes Ratings vs Box Office Earnings Marvel')\n",
    "plt.ticklabel_format(style='plain', axis='x')\n",
    "plt.xticks(rotation = 45)\n",
    "plt.show()"
   ]
  },
  {
   "cell_type": "code",
   "execution_count": null,
   "id": "7a60ea23-a08c-405a-973d-0883c161e059",
   "metadata": {},
   "outputs": [],
   "source": [
    "dc_df.plot.scatter(x= 'Box Office', y ='Rotten Tomatoes', color='black', marker='o')\n",
    "plt.xlabel('DC Box Office Earnings in Millions')\n",
    "plt.ylabel('Rotten Tomatoes Rating out of 100')\n",
    "plt.title('Rotten Tomatoes Ratings vs Box Office Earnings DC')\n",
    "plt.ticklabel_format(style='plain', axis='x')\n",
    "plt.xticks(rotation = 45)\n",
    "plt.show()"
   ]
  },
  {
   "cell_type": "code",
   "execution_count": null,
   "id": "b906a3ea-f367-479b-a1d0-b1f625bf22f3",
   "metadata": {},
   "outputs": [],
   "source": []
  }
 ],
 "metadata": {
  "kernelspec": {
   "display_name": "Python 3 (ipykernel)",
   "language": "python",
   "name": "python3"
  },
  "language_info": {
   "codemirror_mode": {
    "name": "ipython",
    "version": 3
   },
   "file_extension": ".py",
   "mimetype": "text/x-python",
   "name": "python",
   "nbconvert_exporter": "python",
   "pygments_lexer": "ipython3",
   "version": "3.13.5"
  }
 },
 "nbformat": 4,
 "nbformat_minor": 5
}
